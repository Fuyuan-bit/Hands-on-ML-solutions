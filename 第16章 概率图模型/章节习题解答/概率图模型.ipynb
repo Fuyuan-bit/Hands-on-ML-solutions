{
 "cells": [
  {
   "cell_type": "markdown",
   "metadata": {},
   "source": [
    "1. 以下关于概率图模型的说法错误的是：   \n",
    "A. 图分有向图和无向图两种，分别表示变量间的单向和双向依赖关系。   \n",
    "B. 概率图的有效建立往往需要人的先验知识。   \n",
    "C. 贝叶斯网络导出的MAP和MLE解是等价的。   \n",
    "D. 马尔可夫网络中势能越高的状态出现的概率越低。  "
   ]
  },
  {
   "cell_type": "markdown",
   "metadata": {},
   "source": [
    "---"
   ]
  },
  {
   "cell_type": "markdown",
   "metadata": {},
   "source": [
    "2. 以下关于条件独立的说法，不正确的是？   \n",
    "A. 条件独立的定义是：考虑3个变量$a,b,c$假设给定$b$和$c$的情况下，$a$的条件分布不依赖于$b$的值，则在给定$c$的情况下$a$条件独立于$b$。   \n",
    "B. 图模型中的尾对尾结构中，当父节点未被观测到时，其子节点之间将不会条件独立   \n",
    "C. 图模型中的头对尾结构中，当中间节点未被观测到时，其两头的节点之间将不会条件独立   \n",
    "D. 图模型中的头对头结构中，当子节点未被观测到时，其父节点之间将不会条件独立  "
   ]
  },
  {
   "cell_type": "markdown",
   "metadata": {},
   "source": [
    "---"
   ]
  },
  {
   "cell_type": "markdown",
   "metadata": {},
   "source": [
    "3. 在线性模型中，假设参数$w$的先验分布是偏移参数为$\\mu=0$、尺度参数为$b$的拉普拉斯分布，其概率密度函数为\n",
    "$$p(w|\\mu=0,b)=\\frac{1}{2b}\\exp(-\\frac{|w|}{b})$$\n",
    "仿照 16.1 节中的推导，利用MAP求解此时的优化目标。这个目标相当于为线性模型添加了什么正则化约束？"
   ]
  },
  {
   "cell_type": "markdown",
   "metadata": {},
   "source": [
    "---"
   ]
  },
  {
   "cell_type": "markdown",
   "metadata": {},
   "source": [
    "4. 把一句话中的每个词看作一个单元，为了构成完整的具有语义的句子，这些单元之间必然存在关联。这种关联用哪种概率模型描述更合适？简要画出相应的概率图。"
   ]
  },
  {
   "cell_type": "markdown",
   "metadata": {},
   "source": [
    "---"
   ]
  },
  {
   "cell_type": "markdown",
   "metadata": {},
   "source": [
    "5. 如果要扩展图像去噪中像素之间的关联，认为任意一个像素和周围的8个像素有关，对应的马尔可夫网络和能量函数要怎样变化？修改相应的代码，观察去噪结果是否有变化。"
   ]
  },
  {
   "cell_type": "markdown",
   "metadata": {},
   "source": [
    "---"
   ]
  },
  {
   "cell_type": "markdown",
   "metadata": {},
   "source": [
    "6. 在20 newsgroups数据集中，各个新闻事实上还包含了标题、脚注、引用等信息，而这些信息常常含有大量提示主题的关键词。因此，是否包含这些信息对分类准确率的影响非常大。阅读文档，在`fetch_20newsgroups_vectorized`函数中添加`remove`参数，把相关的主题信息移除，观察分类准确率的变化。在现实场景中，我们是否能获取到这些信息？这提示我们在利用机器学习完成实际中的任务时要注意什么？"
   ]
  },
  {
   "cell_type": "markdown",
   "metadata": {},
   "source": []
  }
 ],
 "metadata": {
  "language_info": {
   "name": "python"
  }
 },
 "nbformat": 4,
 "nbformat_minor": 2
}
