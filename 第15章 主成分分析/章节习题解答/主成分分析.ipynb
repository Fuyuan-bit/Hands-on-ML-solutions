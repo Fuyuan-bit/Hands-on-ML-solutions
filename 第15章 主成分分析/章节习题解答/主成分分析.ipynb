{
 "cells": [
  {
   "cell_type": "markdown",
   "metadata": {},
   "source": [
    "1. PCA算法成立的条件与数据分布的形式是否有关系？尝试计算下列特殊数据分布的第一个主成分，和你直观的感受一样吗？\n",
    "   - 直线$y=x$上的点$\\{(k,k)|k=1,...,10\\}$；\n",
    "   - 两边不等长的十字形$\\{(x,0)|x=-3,...,3\\}\\cup \\{(0,y)|y=-2,...,2\\}$；\n",
    "   - 三维中单位立方体的8个顶点$\\{(x,y,z)|x,y,z=0,1\\}$。"
   ]
  },
  {
   "cell_type": "markdown",
   "metadata": {},
   "source": [
    "---"
   ]
  },
  {
   "cell_type": "markdown",
   "metadata": {},
   "source": [
    "2. 当有数据集中包含多个不同类别的数据时，PCA还可以用来把数据区分开，完成类似于聚类的效果。这样做的原理是什么？（提示：考虑主成分与方差的关系。）"
   ]
  },
  {
   "cell_type": "markdown",
   "metadata": {},
   "source": [
    "---"
   ]
  },
  {
   "cell_type": "markdown",
   "metadata": {},
   "source": [
    "3.利用sklearn库中的`sklearn.datasets.load_iris()`函数加载鸢尾花数据集。该数据集中共包含3种不同的鸢尾花，每一行代表一朵鸢尾花，并给出了花萼长度、花瓣长度等特征，以及鸢尾花所属的种类。用PCA把其中的特征数据降到两维，画出降维后数据的分布，并为每种鸢尾花涂上不同颜色。不同种的样本是否被分开了？"
   ]
  },
  {
   "cell_type": "markdown",
   "metadata": {},
   "source": [
    "---"
   ]
  },
  {
   "cell_type": "markdown",
   "metadata": {},
   "source": []
  }
 ],
 "metadata": {
  "language_info": {
   "name": "python"
  }
 },
 "nbformat": 4,
 "nbformat_minor": 2
}
