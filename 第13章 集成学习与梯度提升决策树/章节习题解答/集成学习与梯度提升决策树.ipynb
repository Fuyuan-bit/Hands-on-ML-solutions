{
 "cells": [
  {
   "cell_type": "markdown",
   "metadata": {},
   "source": [
    "1. 以下关于集成学习的说法不正确的是：   \n",
    "   A. 在集成学习中，我们可以为数据空间的不同区域使用不同的预测模型，再将预测结果进行组合。   \n",
    "   B. 一组预测模型可以有多种方式进行集成学习。   \n",
    "   C. 有效的集成学习需要集合中的模型具有单一性，最好将同一类型的预测模型结合起来。   \n",
    "   D. 训练集成模型时，单个模型的参数不会随之更新。  \n",
    "\n"
   ]
  },
  {
   "cell_type": "markdown",
   "metadata": {},
   "source": [
    "答：  \n",
    "A. 正确。数据空间的不同部分可能有比较大差别的模式，在不同区域学习不同的预测模型再组合起来就可以预测这个数据空间的数据了。  \n",
    "B. 正确。一组预测模型可以用不同的方法集成达到不同的效果，比如Bagging，Boosting，Stacking等。  \n",
    "C. 错误。集成学习就是集合不同结构类型的模型才能获得更好的性能的。  \n",
    "D. 正确。单个模型的参数是训练单个模型的时候确定好。集成学习模型训练是将训练好的模型结合起来。\n"
   ]
  },
  {
   "cell_type": "markdown",
   "metadata": {},
   "source": [
    "---"
   ]
  },
  {
   "cell_type": "markdown",
   "metadata": {},
   "source": [
    "   2. 以下关于提升算法的说法正确的是：   \n",
    "A. AdaBoost算法中，$err$绝对值越小的模型权重绝对值越大，在集成模型中占有主导地位。   \n",
    "B. AdaBoost算法中，需要按照之前学习器的结果对训练数据进行加权采样。   \n",
    "C. GBDT算法用到了“梯度反方向是函数值下降最快方向”的思想。   \n",
    "D. GBDT的正则化约束只考虑了叶节点的数目  "
   ]
  },
  {
   "cell_type": "markdown",
   "metadata": {},
   "source": [
    "答：  \n",
    "A. 正确。AdaBoost是通过错误率来确定每个学习器的权重的，错误率越小权重就越大，就在模型中起到比较重要的影响。  \n",
    "B. 正确。AdaBoost会给训练数据加权进行调整，使得前一轮的错误样本在下一轮更加被关注。  \n",
    "C. 正确。这是GBDT的核心思想。将梯度和决策树结合，每次迭代拟合决策树模型进行更新。  \n",
    "D. 错误。GBDT的正则化约束还考虑了树的深度，叶结点的输出值等，综合约束来降低过拟合。\n"
   ]
  },
  {
   "cell_type": "markdown",
   "metadata": {},
   "source": [
    "---"
   ]
  },
  {
   "cell_type": "markdown",
   "metadata": {},
   "source": [
    "3. 由基础学习器提取特征后再供给元学习器进一步学习，这一特征提取的思想在前面哪些章节也出现过？为什么合适的特征提取往往能提升算法的表现？"
   ]
  },
  {
   "cell_type": "markdown",
   "metadata": {},
   "source": [
    "答：特征提取可以从大量的特征洪提取合适的特征，减少特征的维度和噪声，找到更加能拟合数据模式的重要特征，达到更好的泛化效果。而且特征提取可以降低计算的复杂度，消除一些不必要的关系影响。  \n",
    "特征提取在许多地方都出现过，比如CNN中的对图像数据的提取（池化），RNN中对序列中潜在关系的提取（GRU），SVM中的特征映射，决策树中的对数据的分割提取等等。"
   ]
  },
  {
   "cell_type": "markdown",
   "metadata": {},
   "source": [
    "---"
   ]
  },
  {
   "cell_type": "markdown",
   "metadata": {},
   "source": [
    "4. 基于本章代码，尝试非线性的元分类器，如神经网络和决策树，观察原始数据拼接到新数据上的模型预测性能的改变。"
   ]
  },
  {
   "cell_type": "markdown",
   "metadata": {},
   "source": [
    "非线性元分类器能捕捉更复杂的数据关系，尤其是对于非线性特征。原始数据拼接新数据后，模型的性能有所下降，可能是因为原始特征中带有噪音和不相关的信息干扰了元学习。不过影响并不大，说明基分类器已经基本上学习到了特征信息。"
   ]
  },
  {
   "cell_type": "code",
   "execution_count": 17,
   "metadata": {},
   "outputs": [],
   "source": [
    "# 导入需要的库\n",
    "from tqdm import tqdm\n",
    "import numpy as np\n",
    "from matplotlib import pyplot as plt\n",
    "from sklearn.datasets import make_classification\n",
    "from sklearn.tree import DecisionTreeClassifier as DTC\n",
    "from sklearn.model_selection import train_test_split"
   ]
  },
  {
   "cell_type": "code",
   "execution_count": 18,
   "metadata": {},
   "outputs": [
    {
     "name": "stdout",
     "output_type": "stream",
     "text": [
      "(1000, 16)\n",
      "(1000,)\n"
     ]
    }
   ],
   "source": [
    "# 创建随机数据集\n",
    "X, y = make_classification(\n",
    "    n_samples = 1000, # 样本数量\n",
    "    n_features = 16, # 每个样本的特征数量\n",
    "    n_informative = 5, # 与输出y有关联的特征量\n",
    "    n_redundant = 2, # 对输出y没贡献的特征量\n",
    "    n_classes = 2, # 两个类别\n",
    "    flip_y = 0.1, # 标签的错误率\n",
    "    random_state = 2024\n",
    ")\n",
    "\n",
    "print(X.shape)\n",
    "print(y.shape)"
   ]
  },
  {
   "cell_type": "code",
   "execution_count": 19,
   "metadata": {},
   "outputs": [],
   "source": [
    "from sklearn.model_selection import KFold\n",
    "from sklearn.base import clone\n",
    "\n",
    "# 堆垛分类器，继承sklearn中的集成分类器基类EnsembleClassifier\n",
    "class StackingClassifier():\n",
    "\n",
    "    def __init__(\n",
    "        self, \n",
    "        classifiers, # 基础分类器\n",
    "        meta_classifier, # 元分类器\n",
    "        concat_feature=False, # 是否将原始数据拼接在新数据上\n",
    "        kfold=5 # K折交叉验证\n",
    "    ):\n",
    "        self.classifiers = classifiers\n",
    "        self.meta_classifier = meta_classifier\n",
    "        self.concat_feature = concat_feature\n",
    "        self.kf = KFold(n_splits=kfold)\n",
    "        # 为了在测试时计算平均，我们需要保留每个分类器\n",
    "        self.k_fold_classifiers = []\n",
    "        \n",
    "    def fit(self, X, y):\n",
    "        # 用X和y训练基础分类器和元分类器\n",
    "        n_samples, n_features = X.shape\n",
    "        self.n_classes = np.unique(y).shape[0]\n",
    "        \n",
    "        if self.concat_feature:\n",
    "            features = X\n",
    "        else:\n",
    "            features = np.zeros((n_samples, 0))\n",
    "        for classifier in self.classifiers:\n",
    "            self.k_fold_classifiers.append([])\n",
    "            # 训练每个基础分类器\n",
    "            predict_proba = np.zeros((n_samples, self.n_classes))\n",
    "            for train_idx, test_idx in self.kf.split(X):\n",
    "                # 交叉验证\n",
    "                clf = clone(classifier)\n",
    "                clf.fit(X[train_idx], y[train_idx])\n",
    "                predict_proba[test_idx] = clf.predict_proba(X[test_idx])\n",
    "                self.k_fold_classifiers[-1].append(clf)\n",
    "            features = np.concatenate([features, predict_proba], axis=-1)\n",
    "        # 训练元分类器\n",
    "        self.meta_classifier.fit(features, y)\n",
    "    \n",
    "    def _get_features(self, X):\n",
    "        # 计算输入X的特征\n",
    "        if self.concat_feature:\n",
    "            features = X\n",
    "        else:\n",
    "            features = np.zeros((X.shape[0], 0))\n",
    "        for k_classifiers in self.k_fold_classifiers:\n",
    "            k_feat = np.mean([clf.predict_proba(X)\n",
    "                for clf in k_classifiers], axis=0)\n",
    "            features = np.concatenate([features, k_feat], axis=-1)\n",
    "        return features\n",
    "    \n",
    "    def predict(self, X):\n",
    "        return self.meta_classifier.predict(self._get_features(X))\n",
    "        \n",
    "    def score(self, X, y):\n",
    "        return self.meta_classifier.score(self._get_features(X), y)"
   ]
  },
  {
   "cell_type": "code",
   "execution_count": 20,
   "metadata": {},
   "outputs": [
    {
     "name": "stdout",
     "output_type": "stream",
     "text": [
      "随机森林： 0.795\n",
      "KNN： 0.83\n",
      "逻辑斯谛回归： 0.74\n",
      "Stacking分类器（线性）： 0.84\n",
      "带原始特征的Stacking分类器（线性）： 0.825\n",
      "Stacking分类器（决策树）： 0.825\n",
      "带原始特征的Stacking分类器（决策树）： 0.815\n",
      "Stacking分类器（神经网络）： 0.84\n",
      "带原始特征的Stacking分类器（神经网络）： 0.83\n"
     ]
    },
    {
     "name": "stderr",
     "output_type": "stream",
     "text": [
      "d:\\miniconda\\envs\\d2l\\lib\\site-packages\\sklearn\\neural_network\\_multilayer_perceptron.py:691: ConvergenceWarning: Stochastic Optimizer: Maximum iterations (200) reached and the optimization hasn't converged yet.\n",
      "  warnings.warn(\n"
     ]
    }
   ],
   "source": [
    "from sklearn.linear_model import LogisticRegression as LR\n",
    "from sklearn.ensemble import RandomForestClassifier as RFC\n",
    "from sklearn.neighbors import KNeighborsClassifier as KNC\n",
    "from sklearn.neural_network import MLPClassifier\n",
    "from sklearn import tree\n",
    "\n",
    "# 划分训练集和测试集\n",
    "X_train, X_test, y_train, y_test = \\\n",
    "    train_test_split(X, y, test_size=0.2, random_state=0)\n",
    "\n",
    "# 基础分类器\n",
    "rf = RFC(n_estimators=10, max_features='sqrt', \n",
    "    random_state=0).fit(X_train, y_train)\n",
    "knc = KNC().fit(X_train, y_train)\n",
    "# multi_class='ovr'表示二分类问题\n",
    "lr = LR(solver='liblinear', multi_class='ovr', \n",
    "    random_state=0).fit(X_train, y_train)\n",
    "print('随机森林：', rf.score(X_test, y_test))\n",
    "print('KNN：', knc.score(X_test, y_test))\n",
    "print('逻辑斯谛回归：', lr.score(X_test, y_test))\n",
    "\n",
    "\n",
    "# 元分类器\n",
    "meta_lr = LR(solver='liblinear', multi_class='ovr', random_state=0) # 线性元分类器\n",
    "meta_DTC = tree.DecisionTreeClassifier(criterion='entropy', max_depth=3) # 决策树元分类器\n",
    "meta_nn = MLPClassifier(hidden_layer_sizes=(16,), random_state=1)\n",
    "\n",
    "# -------------------- #\n",
    "# 元分类器为线性回归\n",
    "sc_lr = StackingClassifier([rf, knc, lr], meta_lr, concat_feature=False)\n",
    "sc_lr.fit(X_train, y_train)\n",
    "print('Stacking分类器（线性）：', sc_lr.score(X_test, y_test))\n",
    "\n",
    "# 带原始特征的stacking分类器\n",
    "sc_lr_concat = StackingClassifier([rf, knc, lr], meta_lr, concat_feature=True)\n",
    "sc_lr_concat.fit(X_train, y_train)\n",
    "print('带原始特征的Stacking分类器（线性）：', sc_lr_concat.score(X_test, y_test))\n",
    "\n",
    "# -------------------- #\n",
    "# 元分类器为决策树\n",
    "sc_dtc = StackingClassifier([rf, knc, lr], meta_DTC, concat_feature=False)\n",
    "sc_dtc.fit(X_train, y_train)\n",
    "print('Stacking分类器（决策树）：', sc_dtc.score(X_test, y_test))\n",
    "\n",
    "# 带原始特征的stacking分类器\n",
    "sc_dtc_concat = StackingClassifier([rf, knc, lr], meta_DTC, concat_feature=True)\n",
    "sc_dtc_concat.fit(X_train, y_train)\n",
    "print('带原始特征的Stacking分类器（决策树）：', sc_dtc_concat.score(X_test, y_test))\n",
    "\n",
    "# -------------------- #\n",
    "# 元分类器为MLP\n",
    "sc_nn = StackingClassifier([rf, knc, lr], meta_nn, concat_feature=False)\n",
    "sc_nn.fit(X_train, y_train)\n",
    "print('Stacking分类器（神经网络）：', sc_nn.score(X_test, y_test))\n",
    "\n",
    "\n",
    "# 带原始特征的stacking分类器\n",
    "sc_nn_concat = StackingClassifier([rf, knc, lr], meta_nn, concat_feature=True)\n",
    "sc_nn_concat.fit(X_train, y_train)\n",
    "print('带原始特征的Stacking分类器（神经网络）：', sc_nn_concat.score(X_test, y_test))\n"
   ]
  },
  {
   "cell_type": "markdown",
   "metadata": {},
   "source": [
    "---"
   ]
  },
  {
   "cell_type": "markdown",
   "metadata": {},
   "source": [
    "5. 在提升算法中，弱学习器的数量越多，元学习器的效果是否一定越好？调整AdaBoost和GBDT代码中弱学习器的数量，验证你的想法。"
   ]
  },
  {
   "cell_type": "code",
   "execution_count": 27,
   "metadata": {},
   "outputs": [
    {
     "name": "stderr",
     "output_type": "stream",
     "text": [
      "  0%|          | 0/20 [00:00<?, ?it/s]\n"
     ]
    },
    {
     "ename": "TypeError",
     "evalue": "__init__() got an unexpected keyword argument 'base_estimator'",
     "output_type": "error",
     "traceback": [
      "\u001b[1;31m---------------------------------------------------------------------------\u001b[0m",
      "\u001b[1;31mTypeError\u001b[0m                                 Traceback (most recent call last)",
      "Cell \u001b[1;32mIn[27], line 22\u001b[0m\n\u001b[0;32m     19\u001b[0m \u001b[38;5;28;01mwith\u001b[39;00m tqdm(M) \u001b[38;5;28;01mas\u001b[39;00m pbar:\n\u001b[0;32m     20\u001b[0m     \u001b[38;5;28;01mfor\u001b[39;00m m \u001b[38;5;129;01min\u001b[39;00m pbar:\n\u001b[0;32m     21\u001b[0m         \u001b[38;5;66;03m# bagging算法\u001b[39;00m\n\u001b[1;32m---> 22\u001b[0m         bc \u001b[38;5;241m=\u001b[39m \u001b[43mBaggingClassifier\u001b[49m\u001b[43m(\u001b[49m\u001b[43mbase_estimator\u001b[49m\u001b[38;5;241;43m=\u001b[39;49m\u001b[43mstump\u001b[49m\u001b[43m,\u001b[49m\u001b[43m \u001b[49m\n\u001b[0;32m     23\u001b[0m \u001b[43m            \u001b[49m\u001b[43mn_estimators\u001b[49m\u001b[38;5;241;43m=\u001b[39;49m\u001b[43mm\u001b[49m\u001b[43m,\u001b[49m\u001b[43m \u001b[49m\u001b[43mrandom_state\u001b[49m\u001b[38;5;241;43m=\u001b[39;49m\u001b[38;5;241;43m0\u001b[39;49m\u001b[43m)\u001b[49m\n\u001b[0;32m     24\u001b[0m         bc\u001b[38;5;241m.\u001b[39mfit(X_train, y_train)\n\u001b[0;32m     25\u001b[0m         bg_score\u001b[38;5;241m.\u001b[39mappend(bc\u001b[38;5;241m.\u001b[39mscore(X_test, y_test))\n",
      "\u001b[1;31mTypeError\u001b[0m: __init__() got an unexpected keyword argument 'base_estimator'"
     ]
    },
    {
     "data": {
      "text/plain": [
       "<Figure size 640x480 with 0 Axes>"
      ]
     },
     "metadata": {},
     "output_type": "display_data"
    }
   ],
   "source": [
    "import numpy as np\n",
    "from tqdm import tqdm\n",
    "import matplotlib.pyplot as plt\n",
    "from sklearn.ensemble import AdaBoostClassifier\n",
    "from sklearn.ensemble import BaggingClassifier, RandomForestClassifier\n",
    "\n",
    "\n",
    "# 初始化stump\n",
    "stump = DTC(max_depth=1, min_samples_leaf=1, random_state=0)\n",
    "\n",
    "# 弱分类器个数\n",
    "M = np.arange(1, 101, 5)\n",
    "bg_score = []\n",
    "rf_score = []\n",
    "dsc_ada_score = []\n",
    "real_ada_score = []\n",
    "plt.figure()\n",
    "\n",
    "with tqdm(M) as pbar:\n",
    "    for m in pbar:\n",
    "        # bagging算法\n",
    "        bc = BaggingClassifier(base_estimator=stump, \n",
    "            n_estimators=m, random_state=0)\n",
    "        bc.fit(X_train, y_train)\n",
    "        bg_score.append(bc.score(X_test, y_test))\n",
    "        # 随机森林算法\n",
    "        rfc = RandomForestClassifier(n_estimators=m, max_depth=1, \n",
    "            min_samples_leaf=1, random_state=0)\n",
    "        rfc.fit(X_train, y_train)\n",
    "        rf_score.append(rfc.score(X_test, y_test))\n",
    "        # 离散 AdaBoost，SAMME是分步加性模型（stepwise additive model）的缩写\n",
    "        dsc_adaboost = AdaBoostClassifier(base_estimator=stump, \n",
    "            n_estimators=m, algorithm='SAMME', random_state=0)\n",
    "        dsc_adaboost.fit(X_train, y_train)\n",
    "        dsc_ada_score.append(dsc_adaboost.score(X_test, y_test))\n",
    "        # 实 AdaBoost，SAMME.R表示弱分类器输出实数\n",
    "        real_adaboost = AdaBoostClassifier(base_estimator=stump, \n",
    "            n_estimators=m, algorithm='SAMME.R', random_state=0)\n",
    "        real_adaboost.fit(X_train, y_train)\n",
    "        real_ada_score.append(real_adaboost.score(X_test, y_test))\n",
    "\n",
    "# 绘图\n",
    "plt.plot(M, bg_score, color='blue', label='Bagging')\n",
    "plt.plot(M, rf_score, color='red', label='Random Forest')\n",
    "plt.plot(M, dsc_ada_score, color='green', label='Discrete AdaBoost')\n",
    "plt.plot(M, real_ada_score, color='purple', label='Real AdaBoost')\n",
    "plt.xlabel('Number of trees')\n",
    "plt.ylabel('Test score')\n",
    "plt.legend()\n",
    "plt.show()"
   ]
  },
  {
   "cell_type": "markdown",
   "metadata": {},
   "source": [
    "---"
   ]
  },
  {
   "cell_type": "markdown",
   "metadata": {},
   "source": [
    "6. 基于xgboost库，对于本章涉及的回归任务，调试树的数量上限、每棵树的深度上限、学习率，观察其训练模型性能的改变，讨论是大量较浅的树组成的GBDT模型更强，还是少量的较深的树组成的GBDT模型更强。"
   ]
  },
  {
   "cell_type": "markdown",
   "metadata": {},
   "source": []
  }
 ],
 "metadata": {
  "kernelspec": {
   "display_name": "d2l",
   "language": "python",
   "name": "python3"
  },
  "language_info": {
   "codemirror_mode": {
    "name": "ipython",
    "version": 3
   },
   "file_extension": ".py",
   "mimetype": "text/x-python",
   "name": "python",
   "nbconvert_exporter": "python",
   "pygments_lexer": "ipython3",
   "version": "3.9.18"
  }
 },
 "nbformat": 4,
 "nbformat_minor": 2
}
